{
 "cells": [
  {
   "cell_type": "code",
   "execution_count": null,
   "metadata": {},
   "outputs": [],
   "source": [
    "import re\n",
    "import pandas as pd\n",
    "from sklearn.model_selection import train_test_split\n",
    "from sklearn.metrics import accuracy_score, roc_auc_score\n",
    "import torch\n",
    "from torch.utils.data import DataLoader, Dataset\n",
    "from transformers import BertTokenizer, BertForSequenceClassification, AdamW, BertModel\n",
    "from tqdm import tqdm\n",
    "import optuna\n",
    "from bertviz import head_view, model_view\n",
    "import matplotlib.pyplot as plt\n",
    "from sklearn.metrics import roc_curve, precision_recall_curve, average_precision_score, auc\n",
    "import torch.nn.functional as F"
   ]
  },
  {
   "cell_type": "code",
   "execution_count": null,
   "metadata": {},
   "outputs": [],
   "source": [
    "def load_dataset(file_path):\n",
    "    with open(file_path, 'r') as f:\n",
    "        lines = f.readlines()\n",
    "    \n",
    "    data = []\n",
    "    current_label = None\n",
    "    for line in lines:\n",
    "        line = line.strip()\n",
    "        if line.startswith('>'):\n",
    "            label_match = re.match(r\">(\\d)_\\d+\", line)\n",
    "            if label_match:\n",
    "                current_label = int(label_match.group(1))\n",
    "        else:\n",
    "            if current_label is not None and len(line) > 0:\n",
    "                data.append((current_label, line))\n",
    "                current_label = None\n",
    "    return pd.DataFrame(data, columns=['label', 'sequence'])\n",
    "\n",
    "def tokenizer_kmer(sequence, k=1):\n",
    "    return [sequence[i:i + k] for i in range(len(sequence) - k + 1)]"
   ]
  }
 ],
 "metadata": {
  "kernelspec": {
   "display_name": "old",
   "language": "python",
   "name": "python3"
  },
  "language_info": {
   "name": "python",
   "version": "3.8.19"
  }
 },
 "nbformat": 4,
 "nbformat_minor": 2
}
